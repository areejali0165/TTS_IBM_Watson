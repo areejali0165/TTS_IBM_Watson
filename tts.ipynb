{
 "cells": [
  {
   "cell_type": "code",
   "execution_count": 37,
   "id": "0e5cfe75-53b2-449e-a2d8-ecb3ee63e7ec",
   "metadata": {},
   "outputs": [
    {
     "name": "stdout",
     "output_type": "stream",
     "text": [
      "Requirement already satisfied: ibm_watson in c:\\users\\asd31\\appdata\\local\\programs\\python\\python39\\lib\\site-packages (5.2.2)\n",
      "Requirement already satisfied: ibm-cloud-sdk-core==3.*,>=3.3.6 in c:\\users\\asd31\\appdata\\local\\programs\\python\\python39\\lib\\site-packages (from ibm_watson) (3.10.1)\n",
      "Requirement already satisfied: websocket-client==1.1.0 in c:\\users\\asd31\\appdata\\local\\programs\\python\\python39\\lib\\site-packages (from ibm_watson) (1.1.0)\n",
      "Requirement already satisfied: python-dateutil>=2.5.3 in c:\\users\\asd31\\appdata\\local\\programs\\python\\python39\\lib\\site-packages (from ibm_watson) (2.8.2)\n",
      "Requirement already satisfied: requests<3.0,>=2.0 in c:\\users\\asd31\\appdata\\local\\programs\\python\\python39\\lib\\site-packages (from ibm_watson) (2.26.0)\n",
      "Requirement already satisfied: PyJWT<3.0.0,>=2.0.1 in c:\\users\\asd31\\appdata\\local\\programs\\python\\python39\\lib\\site-packages (from ibm-cloud-sdk-core==3.*,>=3.3.6->ibm_watson) (2.1.0)\n",
      "Requirement already satisfied: six>=1.5 in c:\\users\\asd31\\appdata\\roaming\\python\\python39\\site-packages (from python-dateutil>=2.5.3->ibm_watson) (1.16.0)\n",
      "Requirement already satisfied: idna<4,>=2.5 in c:\\users\\asd31\\appdata\\local\\programs\\python\\python39\\lib\\site-packages (from requests<3.0,>=2.0->ibm_watson) (3.2)\n",
      "Requirement already satisfied: charset-normalizer~=2.0.0 in c:\\users\\asd31\\appdata\\local\\programs\\python\\python39\\lib\\site-packages (from requests<3.0,>=2.0->ibm_watson) (2.0.3)\n",
      "Requirement already satisfied: urllib3<1.27,>=1.21.1 in c:\\users\\asd31\\appdata\\local\\programs\\python\\python39\\lib\\site-packages (from requests<3.0,>=2.0->ibm_watson) (1.26.6)\n",
      "Requirement already satisfied: certifi>=2017.4.17 in c:\\users\\asd31\\appdata\\local\\programs\\python\\python39\\lib\\site-packages (from requests<3.0,>=2.0->ibm_watson) (2021.5.30)\n",
      "Note: you may need to restart the kernel to use updated packages.\n"
     ]
    }
   ],
   "source": [
    "pip install ibm_watson\n"
   ]
  },
  {
   "cell_type": "code",
   "execution_count": 38,
   "id": "b573cc0c-0a4b-474d-8f18-bdeb0fc252fe",
   "metadata": {},
   "outputs": [],
   "source": [
    "url ='https://api.eu-gb.text-to-speech.watson.cloud.ibm.com/instances/1c00cc0e-af67-44d0-bc5a-9afeb9d86d61'\n",
    "apiKey ='cKX020j4C7-XsLmhj2zYlorSPTfiloyIwuTudtUpsEj9'"
   ]
  },
  {
   "cell_type": "code",
   "execution_count": 39,
   "id": "1f4ad9c1-e4fb-469d-b237-4acf60eb1f34",
   "metadata": {},
   "outputs": [],
   "source": [
    "from ibm_watson import TextToSpeechV1\n"
   ]
  },
  {
   "cell_type": "code",
   "execution_count": 40,
   "id": "192c071f-1b28-40be-8051-6373f38da385",
   "metadata": {},
   "outputs": [],
   "source": [
    "from ibm_cloud_sdk_core.authenticators import IAMAuthenticator"
   ]
  },
  {
   "cell_type": "code",
   "execution_count": 41,
   "id": "1bffa622-7233-4d79-8bd0-327957db0b9b",
   "metadata": {},
   "outputs": [],
   "source": [
    "authenticator = IAMAuthenticator(apiKey)\n",
    "tts = TextToSpeechV1(authenticator=authenticator)\n",
    "tts.set_service_url(url)"
   ]
  },
  {
   "cell_type": "code",
   "execution_count": 42,
   "id": "ddfac189-5225-4e83-a06d-b6d590805a16",
   "metadata": {},
   "outputs": [],
   "source": [
    "with open('./speech.mp3' ,'wb') as audio_f:\n",
    "    res=tts.synthesize(\"welcom to smart methods\" , accept = \"audio/mp3\" , voice =\"en-US_AllisonV3Voice\").get_result()\n",
    "    audio_f.write(res.content)"
   ]
  },
  {
   "cell_type": "code",
   "execution_count": 71,
   "id": "0f95bc57-3bbd-4aeb-a63b-ceaae4b9308b",
   "metadata": {},
   "outputs": [],
   "source": [
    "with open(\"tts.txt\" ,\"r\") as f:\n",
    "    text =f.readlines()"
   ]
  },
  {
   "cell_type": "code",
   "execution_count": 72,
   "id": "c1d4c0f5-b5ac-47b7-b39d-abcb18d11ea5",
   "metadata": {},
   "outputs": [
    {
     "data": {
      "text/plain": [
       "['welcom to smart methods company , which will help you create, program and train robots.\\n',\n",
       " 'Training in smart methods is fun and useful for graduates.\\n',\n",
       " '\\n',\n",
       " 'I am the trainee, Areej Ali, from the Internet of Things course, very happy with this.']"
      ]
     },
     "execution_count": 72,
     "metadata": {},
     "output_type": "execute_result"
    }
   ],
   "source": [
    "text"
   ]
  },
  {
   "cell_type": "code",
   "execution_count": 73,
   "id": "186b37aa-57ff-4403-8e26-fde17fe34170",
   "metadata": {},
   "outputs": [],
   "source": [
    "text = [line.replace('\\n' , '') for line in text]\n",
    "text = ''.join(str(line) for line in text)"
   ]
  },
  {
   "cell_type": "code",
   "execution_count": 74,
   "id": "6c34443d-fde2-4b56-aca2-bd86e3c53c46",
   "metadata": {},
   "outputs": [
    {
     "data": {
      "text/plain": [
       "'welcom to smart methods company , which will help you create, program and train robots.Training in smart methods is fun and useful for graduates.I am the trainee, Areej Ali, from the Internet of Things course, very happy with this.'"
      ]
     },
     "execution_count": 74,
     "metadata": {},
     "output_type": "execute_result"
    }
   ],
   "source": [
    "text"
   ]
  },
  {
   "cell_type": "code",
   "execution_count": 76,
   "id": "bdd7a771-9c8c-46d6-bdb1-daeb32a3281e",
   "metadata": {},
   "outputs": [],
   "source": [
    "with open('./tts.mp3' ,'wb') as audio_f:\n",
    "    res=tts.synthesize(text , accept = \"audio/mp3\" , voice =\"en-US_AllisonV3Voice\").get_result()\n",
    "    audio_f.write(res.content)"
   ]
  },
  {
   "cell_type": "code",
   "execution_count": null,
   "id": "3ac31dbf-f5ea-4aad-8054-519ffa04d435",
   "metadata": {},
   "outputs": [],
   "source": []
  }
 ],
 "metadata": {
  "kernelspec": {
   "display_name": "Python 3 (ipykernel)",
   "language": "python",
   "name": "python3"
  },
  "language_info": {
   "codemirror_mode": {
    "name": "ipython",
    "version": 3
   },
   "file_extension": ".py",
   "mimetype": "text/x-python",
   "name": "python",
   "nbconvert_exporter": "python",
   "pygments_lexer": "ipython3",
   "version": "3.9.6"
  },
  "toc-autonumbering": true,
  "toc-showcode": false,
  "toc-showmarkdowntxt": false,
  "toc-showtags": false
 },
 "nbformat": 4,
 "nbformat_minor": 5
}
